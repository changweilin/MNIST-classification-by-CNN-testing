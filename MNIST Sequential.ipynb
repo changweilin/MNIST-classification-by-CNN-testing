{
 "cells": [
  {
   "cell_type": "code",
   "execution_count": 1,
   "metadata": {},
   "outputs": [
    {
     "name": "stderr",
     "output_type": "stream",
     "text": [
      "Using TensorFlow backend.\n"
     ]
    },
    {
     "name": "stdout",
     "output_type": "stream",
     "text": [
      "Shape of x_train:  (10000, 28, 28, 1)\n",
      "Shape of y_train:  (10000, 10)\n",
      "Shape of x_test:  (10000, 28, 28, 1)\n",
      "Shape of y_test:  (10000, 10)\n"
     ]
    }
   ],
   "source": [
    "import numpy as np\n",
    "from keras.utils import np_utils\n",
    "from keras.datasets import mnist\n",
    "\n",
    "def load_data():\n",
    "    (x_train, y_train), (x_test, y_test) = mnist.load_data()\n",
    "    number = 10000\n",
    "    x_train = x_train[0:number]\n",
    "    y_train = y_train[0:number]\n",
    "    x_train = x_train.reshape(number, 28, 28, 1)\n",
    "    x_train = x_train.astype('float32')\n",
    "    x_test = x_test.reshape(x_test.shape[0], 28, 28, 1)\n",
    "    x_test = x_test.astype('float32')\n",
    "    \n",
    "    y_train = np_utils.to_categorical(y_train, 10)\n",
    "    y_test = np_utils.to_categorical(y_test, 10)\n",
    "    '''\n",
    "    x_train_max = np.amax(x_train, 0)\n",
    "    x_test_max = np.amax(x_test, 0)\n",
    "    x_train = x_train / (x_train_max + 1) #255\n",
    "    x_test = x_test / (x_test_max + 1) #255\n",
    "    '''\n",
    "    x_train = x_train / 255\n",
    "    x_test = x_test / 255\n",
    "    \n",
    "    ratio = 1\n",
    "    x_train = (x_train * ratio + np.random.normal(loc=0.5, scale=0.16, size=(number, 28, 28, 1))) / (ratio + 1)\n",
    "    x_test = (x_test * ratio + np.random.normal(loc=0.5, scale=0.16, size=(x_test.shape[0], 28, 28, 1))) / (ratio + 1)\n",
    "    \n",
    "    return (x_train, y_train), (x_test, y_test)\n",
    "\n",
    "(x_train, y_train), (x_test, y_test) = load_data()\n",
    "print('Shape of x_train: ', np.shape(x_train))\n",
    "print('Shape of y_train: ', np.shape(y_train))\n",
    "print('Shape of x_test: ', np.shape(x_test))\n",
    "print('Shape of y_test: ', np.shape(y_test))"
   ]
  },
  {
   "cell_type": "code",
   "execution_count": 2,
   "metadata": {
    "scrolled": true
   },
   "outputs": [
    {
     "name": "stdout",
     "output_type": "stream",
     "text": [
      "_________________________________________________________________\n",
      "Layer (type)                 Output Shape              Param #   \n",
      "=================================================================\n",
      "conv2d_1 (Conv2D)            (None, 24, 24, 64)        1664      \n",
      "_________________________________________________________________\n",
      "zero_padding2d_1 (ZeroPaddin (None, 28, 28, 64)        0         \n",
      "_________________________________________________________________\n",
      "max_pooling2d_1 (MaxPooling2 (None, 14, 14, 64)        0         \n",
      "_________________________________________________________________\n",
      "conv2d_2 (Conv2D)            (None, 12, 12, 64)        36928     \n",
      "_________________________________________________________________\n",
      "zero_padding2d_2 (ZeroPaddin (None, 14, 14, 64)        0         \n",
      "_________________________________________________________________\n",
      "conv2d_3 (Conv2D)            (None, 12, 12, 32)        18464     \n",
      "_________________________________________________________________\n",
      "zero_padding2d_3 (ZeroPaddin (None, 14, 14, 32)        0         \n",
      "_________________________________________________________________\n",
      "max_pooling2d_2 (MaxPooling2 (None, 7, 7, 32)          0         \n",
      "_________________________________________________________________\n",
      "conv2d_4 (Conv2D)            (None, 5, 5, 16)          4624      \n",
      "_________________________________________________________________\n",
      "flatten_1 (Flatten)          (None, 400)               0         \n",
      "_________________________________________________________________\n",
      "dense_1 (Dense)              (None, 128)               51328     \n",
      "_________________________________________________________________\n",
      "dropout_1 (Dropout)          (None, 128)               0         \n",
      "_________________________________________________________________\n",
      "dense_2 (Dense)              (None, 10)                1290      \n",
      "=================================================================\n",
      "Total params: 114,298\n",
      "Trainable params: 114,298\n",
      "Non-trainable params: 0\n",
      "_________________________________________________________________\n"
     ]
    }
   ],
   "source": [
    "from keras.models import Sequential\n",
    "from keras.layers.core import Dense, Dropout, Activation\n",
    "from keras.layers import Conv2D, MaxPooling2D, AveragePooling2D, ZeroPadding2D, Flatten\n",
    "from keras.optimizers import SGD, Adam, Adadelta\n",
    "import keras.callbacks\n",
    "import argparse\n",
    "\n",
    "# if K.backend() == 'tensorflow':\n",
    "# tensorboard = TensorBoard(log_dir=os.path.join(save_path, 'logs'), histogram_freq=10, write_graph=True)\n",
    "# callbacks.append(tensorboard)\n",
    "\n",
    "model = Sequential()\n",
    "model.add(Conv2D(64, (5, 5), input_shape=(28, 28, 1), padding='valid', data_format='channels_last',  activation='selu', kernel_initializer='lecun_normal'))\n",
    "model.add(ZeroPadding2D(padding=(2,2), data_format = 'channels_Last'))\n",
    "model.add(MaxPooling2D(2,2))\n",
    "\n",
    "model.add(Conv2D(64, (3, 3), padding='valid', data_format='channels_last', activation='selu', kernel_initializer='lecun_normal'))\n",
    "model.add(ZeroPadding2D(padding=(1,1), data_format = 'channels_Last'))\n",
    "\n",
    "model.add(Conv2D(32, (3, 3), padding='valid', data_format='channels_last', activation='selu', kernel_initializer='lecun_normal'))\n",
    "model.add(ZeroPadding2D(padding=(1,1), data_format = 'channels_Last'))\n",
    "model.add(MaxPooling2D(2,2))\n",
    "\n",
    "model.add(Conv2D(16, (3, 3), padding='valid', data_format='channels_last', activation='selu', kernel_initializer='lecun_normal'))\n",
    "\n",
    "model.add(Flatten())\n",
    "\n",
    "#model.add(Dense(input_dim = 28*28, units = 689, activation = 'relu'))\n",
    "\n",
    "for i in range(1):\n",
    "    model.add(Dense(units = 128, activation = 'selu', kernel_initializer='lecun_normal'))\n",
    "    model.add(Dropout(0.5))\n",
    "\n",
    "model.add(Dense(units = 10, activation = 'softmax', kernel_initializer='lecun_normal'))\n",
    "\n",
    "opt = Adadelta(lr = 0.05, rho = 0.95, epsilon = 1e-06)\n",
    "#opt = 'adam'\n",
    "model.compile(loss = 'categorical_crossentropy', optimizer=opt, metrics = ['accuracy'])\n",
    "\n",
    "model.summary()"
   ]
  },
  {
   "cell_type": "code",
   "execution_count": 4,
   "metadata": {
    "scrolled": true
   },
   "outputs": [
    {
     "name": "stdout",
     "output_type": "stream",
     "text": [
      "Epoch 1/4\n",
      "10000/10000 [==============================] - 1s - loss: 0.2419 - acc: 0.9275     \n",
      "Epoch 2/4\n",
      "10000/10000 [==============================] - 1s - loss: 0.2087 - acc: 0.9384     \n",
      "Epoch 3/4\n",
      "10000/10000 [==============================] - 1s - loss: 0.1874 - acc: 0.9449     \n",
      "Epoch 4/4\n",
      "10000/10000 [==============================] - 1s - loss: 0.1712 - acc: 0.9484     \n"
     ]
    },
    {
     "ename": "NameError",
     "evalue": "name 'e' is not defined",
     "output_type": "error",
     "traceback": [
      "\u001b[1;31m---------------------------------------------------------------------------\u001b[0m",
      "\u001b[1;31mNameError\u001b[0m                                 Traceback (most recent call last)",
      "\u001b[1;32m<ipython-input-4-5d71ab889055>\u001b[0m in \u001b[0;36m<module>\u001b[1;34m()\u001b[0m\n\u001b[0;32m     12\u001b[0m     \u001b[0mos\u001b[0m\u001b[1;33m.\u001b[0m\u001b[0mmakedirs\u001b[0m\u001b[1;33m(\u001b[0m\u001b[0mmodel_dir\u001b[0m\u001b[1;33m)\u001b[0m\u001b[1;33m\u001b[0m\u001b[0m\n\u001b[0;32m     13\u001b[0m \u001b[1;33m\u001b[0m\u001b[0m\n\u001b[1;32m---> 14\u001b[1;33m \u001b[0mmodel_path\u001b[0m \u001b[1;33m=\u001b[0m \u001b[0mos\u001b[0m\u001b[1;33m.\u001b[0m\u001b[0mpath\u001b[0m\u001b[1;33m.\u001b[0m\u001b[0mjoin\u001b[0m\u001b[1;33m(\u001b[0m\u001b[0mmodel_dir\u001b[0m\u001b[1;33m,\u001b[0m \u001b[1;34m'model-%d.h5'\u001b[0m \u001b[1;33m%\u001b[0m\u001b[1;33m(\u001b[0m\u001b[0me\u001b[0m\u001b[1;33m+\u001b[0m\u001b[1;36m1\u001b[0m\u001b[1;33m)\u001b[0m\u001b[1;33m)\u001b[0m\u001b[1;33m\u001b[0m\u001b[0m\n\u001b[0m\u001b[0;32m     15\u001b[0m \u001b[0mmodel\u001b[0m\u001b[1;33m.\u001b[0m\u001b[0msave\u001b[0m\u001b[1;33m(\u001b[0m\u001b[0mmodel_path\u001b[0m\u001b[1;33m)\u001b[0m\u001b[1;33m\u001b[0m\u001b[0m\n\u001b[0;32m     16\u001b[0m \u001b[0mmodel_weights_path\u001b[0m \u001b[1;33m=\u001b[0m \u001b[0mos\u001b[0m\u001b[1;33m.\u001b[0m\u001b[0mpath\u001b[0m\u001b[1;33m.\u001b[0m\u001b[0mjoin\u001b[0m\u001b[1;33m(\u001b[0m\u001b[0mmodel_dir\u001b[0m\u001b[1;33m,\u001b[0m \u001b[1;34m'model_weights-%d.h5'\u001b[0m \u001b[1;33m%\u001b[0m\u001b[1;33m(\u001b[0m\u001b[0me\u001b[0m\u001b[1;33m+\u001b[0m\u001b[1;36m1\u001b[0m\u001b[1;33m)\u001b[0m\u001b[1;33m)\u001b[0m\u001b[1;33m\u001b[0m\u001b[0m\n",
      "\u001b[1;31mNameError\u001b[0m: name 'e' is not defined"
     ]
    }
   ],
   "source": [
    "import os\n",
    "\n",
    "model.fit(x_train, y_train, batch_size = 100, epochs = 4)\n",
    "\n",
    "model_name = 'MNIST_model_fixed_20180118-2'\n",
    "base_dir = 'C:/Users/User/Raw data/CNN_test'\n",
    "mdl_dir = os.path.join(base_dir, 'model')\n",
    "if not os.path.exists(mdl_dir):\n",
    "    os.makedirs(mdl_dir)\n",
    "model_dir = os.path.join(mdl_dir, model_name)\n",
    "if not os.path.exists(model_dir):\n",
    "    os.makedirs(model_dir)\n",
    "    \n",
    "model_path = os.path.join(model_dir, 'model-%d.h5' %(epochs))\n",
    "model.save(model_path)\n",
    "model_weights_path = os.path.join(model_dir, 'model_weights-%d.h5' %(epochs))\n",
    "model.save_weights(model_weights_path)\n",
    "\n",
    "result = model.evaluate(x_test, y_test)\n",
    "\n",
    "print('Test score:',result[0])\n",
    "print('Test accuracy:',result[1])"
   ]
  },
  {
   "cell_type": "code",
   "execution_count": 6,
   "metadata": {
    "scrolled": true
   },
   "outputs": [
    {
     "name": "stdout",
     "output_type": "stream",
     "text": [
      "True:  [  980.  1135.  1032.  1010.   982.   892.   958.  1028.   974.  1009.]\n",
      "confusions [prediction\\True]\n",
      "[[ 969    0    3    1    1    2    3    1    4    4]\n",
      " [   0 1128    4    0    2    0    4    8    0    4]\n",
      " [   1    3  999    3    2    0    0   19    6    0]\n",
      " [   0    2    5  988    1    6    0    5    4    3]\n",
      " [   0    0    0    0  955    0    2    1    1    9]\n",
      " [   0    0    1    5    0  877    4    0    0   13]\n",
      " [   5    1    1    0    3    2  943    0    1    0]\n",
      " [   1    0    5    4    2    2    0  982    3    7]\n",
      " [   4    1   14    8    4    3    2    2  952    9]\n",
      " [   0    0    0    1   12    0    0   10    3  960]]\n",
      "True rate: \n",
      "[[ 0.989  0.     0.003  0.001  0.001  0.002  0.003  0.001  0.004  0.004]\n",
      " [ 0.     0.994  0.004  0.     0.002  0.     0.004  0.008  0.     0.004]\n",
      " [ 0.001  0.003  0.968  0.003  0.002  0.     0.     0.018  0.006  0.   ]\n",
      " [ 0.     0.002  0.005  0.978  0.001  0.007  0.     0.005  0.004  0.003]\n",
      " [ 0.     0.     0.     0.     0.973  0.     0.002  0.001  0.001  0.009]\n",
      " [ 0.     0.     0.001  0.005  0.     0.983  0.004  0.     0.     0.013]\n",
      " [ 0.005  0.001  0.001  0.     0.003  0.002  0.984  0.     0.001  0.   ]\n",
      " [ 0.001  0.     0.005  0.004  0.002  0.002  0.     0.955  0.003  0.007]\n",
      " [ 0.004  0.001  0.014  0.008  0.004  0.003  0.002  0.002  0.977  0.009]\n",
      " [ 0.     0.     0.     0.001  0.012  0.     0.     0.01   0.003  0.951]]\n",
      " 9920/10000 [============================>.] - ETA: 0sTest score: 0.0800246771054\n",
      "Test accuracy: 0.9753\n"
     ]
    }
   ],
   "source": [
    "import numpy as np\n",
    "import argparse\n",
    "from keras.utils.vis_utils import plot_model\n",
    "from sklearn.metrics import confusion_matrix\n",
    "from contextlib import contextmanager\n",
    "\n",
    "@contextmanager\n",
    "def printoptions(*args, **kwargs):\n",
    "    original_options = np.get_printoptions()\n",
    "    np.set_printoptions(*args, **kwargs)\n",
    "    try:\n",
    "        yield\n",
    "    finally:\n",
    "        np.set_printoptions(**original_options)\n",
    "\n",
    "model.save('weight_filepath.HDF5')\n",
    "\n",
    "predictions = model.predict(x_test)\n",
    "predictions = predictions.argmax(axis=-1)\n",
    "y_labels = y_test.argmax(axis=-1)\n",
    "sum_true = np.sum(y_test, axis=0)\n",
    "print('True: ', sum_true)\n",
    "confusions = confusion_matrix(predictions, y_labels)\n",
    "print('confusions [prediction\\True]')\n",
    "print(confusions)\n",
    "print('True rate: ')\n",
    "with printoptions(precision=3, suppress=True):\n",
    "    print('{}'.format(confusions/sum_true))\n",
    "\n",
    "result = model.evaluate(x_test, y_test)\n",
    "print('Test score:',result[0])\n",
    "print('Test accuracy:',result[1])"
   ]
  },
  {
   "cell_type": "code",
   "execution_count": 13,
   "metadata": {},
   "outputs": [],
   "source": [
    "import tensorflow as tf\n",
    "import os\n",
    "from keras.backend.tensorflow_backend import set_session\n",
    "#os.environ[\"CUDA_VISIBLE_DEVICES\"] = \"5,10\"\n",
    "config = tf.ConfigProto()\n",
    "config.gpu_options.allow_growth = True\n",
    "set_session(tf.Session(config=config))"
   ]
  }
 ],
 "metadata": {
  "celltoolbar": "Slideshow",
  "kernelspec": {
   "display_name": "Python 3",
   "language": "python",
   "name": "python3"
  },
  "language_info": {
   "codemirror_mode": {
    "name": "ipython",
    "version": 3
   },
   "file_extension": ".py",
   "mimetype": "text/x-python",
   "name": "python",
   "nbconvert_exporter": "python",
   "pygments_lexer": "ipython3",
   "version": "3.6.0"
  }
 },
 "nbformat": 4,
 "nbformat_minor": 2
}
